{
 "cells": [
  {
   "cell_type": "markdown",
   "metadata": {},
   "source": [
    "## Supuestos estructurales del Modelo Clásico de Regresión Lineal (MCRL)"
   ]
  },
  {
   "cell_type": "code",
   "execution_count": 1,
   "metadata": {},
   "outputs": [],
   "source": [
    "import numpy as np\n",
    "import pandas as pd\n",
    "import statsmodels.api as sm\n",
    "import matplotlib.pyplot as plt\n",
    "import seaborn as sns # Visualización de datos\n",
    "import statsmodels.stats.api as sms"
   ]
  },
  {
   "cell_type": "code",
   "execution_count": 2,
   "metadata": {},
   "outputs": [],
   "source": [
    "data=pd.read_csv(\"C:/Users/57317/Desktop/Universidad Nacional/Programación/Python/Curso Econometría básica con Python/Bases de datos/GujaratiPorter71.txt\", delimiter=\"\\t\")"
   ]
  },
  {
   "cell_type": "code",
   "execution_count": 3,
   "metadata": {},
   "outputs": [
    {
     "data": {
      "text/html": [
       "<div>\n",
       "<style scoped>\n",
       "    .dataframe tbody tr th:only-of-type {\n",
       "        vertical-align: middle;\n",
       "    }\n",
       "\n",
       "    .dataframe tbody tr th {\n",
       "        vertical-align: top;\n",
       "    }\n",
       "\n",
       "    .dataframe thead th {\n",
       "        text-align: right;\n",
       "    }\n",
       "</style>\n",
       "<table border=\"1\" class=\"dataframe\">\n",
       "  <thead>\n",
       "    <tr style=\"text-align: right;\">\n",
       "      <th></th>\n",
       "      <th>CM</th>\n",
       "      <th>FLR</th>\n",
       "      <th>PGNP</th>\n",
       "      <th>TFR</th>\n",
       "    </tr>\n",
       "  </thead>\n",
       "  <tbody>\n",
       "    <tr>\n",
       "      <th>0</th>\n",
       "      <td>128</td>\n",
       "      <td>37</td>\n",
       "      <td>1870</td>\n",
       "      <td>6.66</td>\n",
       "    </tr>\n",
       "    <tr>\n",
       "      <th>1</th>\n",
       "      <td>204</td>\n",
       "      <td>22</td>\n",
       "      <td>130</td>\n",
       "      <td>6.15</td>\n",
       "    </tr>\n",
       "    <tr>\n",
       "      <th>2</th>\n",
       "      <td>202</td>\n",
       "      <td>16</td>\n",
       "      <td>310</td>\n",
       "      <td>7.00</td>\n",
       "    </tr>\n",
       "    <tr>\n",
       "      <th>3</th>\n",
       "      <td>197</td>\n",
       "      <td>65</td>\n",
       "      <td>570</td>\n",
       "      <td>6.25</td>\n",
       "    </tr>\n",
       "    <tr>\n",
       "      <th>4</th>\n",
       "      <td>96</td>\n",
       "      <td>76</td>\n",
       "      <td>2050</td>\n",
       "      <td>3.81</td>\n",
       "    </tr>\n",
       "  </tbody>\n",
       "</table>\n",
       "</div>"
      ],
      "text/plain": [
       "    CM  FLR  PGNP   TFR\n",
       "0  128   37  1870  6.66\n",
       "1  204   22   130  6.15\n",
       "2  202   16   310  7.00\n",
       "3  197   65   570  6.25\n",
       "4   96   76  2050  3.81"
      ]
     },
     "execution_count": 3,
     "metadata": {},
     "output_type": "execute_result"
    }
   ],
   "source": [
    "data.head()"
   ]
  },
  {
   "cell_type": "code",
   "execution_count": 4,
   "metadata": {},
   "outputs": [
    {
     "data": {
      "image/png": "[encoded data removed]",
      "text/plain": [
       "<Figure size 432x288 with 1 Axes>"
      ]
     },
     "metadata": {
      "needs_background": "light"
     },
     "output_type": "display_data"
    }
   ],
   "source": [
    "sns.regplot(x=data[\"FLR\"], y=data[\"CM\"]);"
   ]
  },
  {
   "cell_type": "markdown",
   "metadata": {},
   "source": [
    "**Supuesto #6:**"
   ]
  },
  {
   "cell_type": "code",
   "execution_count": 6,
   "metadata": {},
   "outputs": [
    {
     "data": {
      "text/plain": [
       "(64, 4)"
      ]
     },
     "execution_count": 6,
     "metadata": {},
     "output_type": "execute_result"
    }
   ],
   "source": [
    "#Observaciones mayores a parametros\n",
    "data.shape"
   ]
  },
  {
   "cell_type": "code",
   "execution_count": 11,
   "metadata": {},
   "outputs": [
    {
     "name": "stdout",
     "output_type": "stream",
     "text": [
      "                            OLS Regression Results                            \n",
      "==============================================================================\n",
      "Dep. Variable:                     CM   R-squared:                       1.000\n",
      "Model:                            OLS   Adj. R-squared:                    nan\n",
      "Method:                 Least Squares   F-statistic:                       nan\n",
      "Date:                Mon, 12 Apr 2021   Prob (F-statistic):                nan\n",
      "Time:                        17:13:49   Log-Likelihood:                 66.190\n",
      "No. Observations:                   3   AIC:                            -126.4\n",
      "Df Residuals:                       0   BIC:                            -129.1\n",
      "Df Model:                           2                                         \n",
      "Covariance Type:            nonrobust                                         \n",
      "==============================================================================\n",
      "                 coef    std err          t      P>|t|      [0.025      0.975]\n",
      "------------------------------------------------------------------------------\n",
      "const          3.2453        inf          0        nan         nan         nan\n",
      "PGNP          -0.0692        inf         -0        nan         nan         nan\n",
      "FLR            2.0501        inf          0        nan         nan         nan\n",
      "TFR           26.7721        inf          0        nan         nan         nan\n",
      "==============================================================================\n",
      "Omnibus:                          nan   Durbin-Watson:                   0.843\n",
      "Prob(Omnibus):                    nan   Jarque-Bera (JB):                0.511\n",
      "Skew:                          -0.678   Prob(JB):                        0.775\n",
      "Kurtosis:                       1.500   Cond. No.                         753.\n",
      "==============================================================================\n",
      "\n",
      "Notes:\n",
      "[1] Standard Errors assume that the covariance matrix of the errors is correctly specified.\n",
      "[2] The input rank is higher than the number of observations.\n"
     ]
    },
    {
     "name": "stderr",
     "output_type": "stream",
     "text": [
      "C:\\Users\\57317\\anaconda3\\lib\\site-packages\\statsmodels\\stats\\stattools.py:74: ValueWarning: omni_normtest is not valid with less than 8 observations; 3 samples were given.\n",
      "  warn(\"omni_normtest is not valid with less than 8 observations; %i \"\n",
      "C:\\Users\\57317\\anaconda3\\lib\\site-packages\\statsmodels\\regression\\linear_model.py:1728: RuntimeWarning: divide by zero encountered in true_divide\n",
      "  return 1 - (np.divide(self.nobs - self.k_constant, self.df_resid)\n",
      "C:\\Users\\57317\\anaconda3\\lib\\site-packages\\statsmodels\\regression\\linear_model.py:1728: RuntimeWarning: invalid value encountered in double_scalars\n",
      "  return 1 - (np.divide(self.nobs - self.k_constant, self.df_resid)\n",
      "C:\\Users\\57317\\anaconda3\\lib\\site-packages\\statsmodels\\regression\\linear_model.py:1650: RuntimeWarning: divide by zero encountered in double_scalars\n",
      "  return np.dot(wresid, wresid) / self.df_resid\n"
     ]
    }
   ],
   "source": [
    "Modelo_de_Prueba=sm.OLS(data[\"CM\"][0:3],sm.add_constant(data[[\"PGNP\",\"FLR\",\"TFR\"]][0:3]))\n",
    "Resultados = Modelo_de_Prueba.fit()\n",
    "print(Resultados.summary())"
   ]
  },
  {
   "cell_type": "markdown",
   "metadata": {},
   "source": [
    "**Supuesto #7:**"
   ]
  },
  {
   "cell_type": "code",
   "execution_count": 4,
   "metadata": {},
   "outputs": [],
   "source": [
    "#Variabilidad en las variables"
   ]
  },
  {
   "cell_type": "code",
   "execution_count": 12,
   "metadata": {},
   "outputs": [
    {
     "data": {
      "text/plain": [
       "const       0.000000\n",
       "CM         75.382151\n",
       "FLR        25.803873\n",
       "PGNP     2704.317439\n",
       "TFR         1.497158\n",
       "dtype: float64"
      ]
     },
     "execution_count": 12,
     "metadata": {},
     "output_type": "execute_result"
    }
   ],
   "source": [
    "sm.add_constant(data).apply(np.std)"
   ]
  },
  {
   "cell_type": "code",
   "execution_count": 13,
   "metadata": {},
   "outputs": [
    {
     "data": {
      "text/html": [
       "<div>\n",
       "<style scoped>\n",
       "    .dataframe tbody tr th:only-of-type {\n",
       "        vertical-align: middle;\n",
       "    }\n",
       "\n",
       "    .dataframe tbody tr th {\n",
       "        vertical-align: top;\n",
       "    }\n",
       "\n",
       "    .dataframe thead th {\n",
       "        text-align: right;\n",
       "    }\n",
       "</style>\n",
       "<table border=\"1\" class=\"dataframe\">\n",
       "  <thead>\n",
       "    <tr style=\"text-align: right;\">\n",
       "      <th></th>\n",
       "      <th>Desviación estándar</th>\n",
       "    </tr>\n",
       "  </thead>\n",
       "  <tbody>\n",
       "    <tr>\n",
       "      <th>CM</th>\n",
       "      <td>75.382151</td>\n",
       "    </tr>\n",
       "    <tr>\n",
       "      <th>FLR</th>\n",
       "      <td>25.803873</td>\n",
       "    </tr>\n",
       "    <tr>\n",
       "      <th>PGNP</th>\n",
       "      <td>2704.317439</td>\n",
       "    </tr>\n",
       "    <tr>\n",
       "      <th>TFR</th>\n",
       "      <td>1.497158</td>\n",
       "    </tr>\n",
       "  </tbody>\n",
       "</table>\n",
       "</div>"
      ],
      "text/plain": [
       "      Desviación estándar\n",
       "CM              75.382151\n",
       "FLR             25.803873\n",
       "PGNP          2704.317439\n",
       "TFR              1.497158"
      ]
     },
     "execution_count": 13,
     "metadata": {},
     "output_type": "execute_result"
    }
   ],
   "source": [
    "pd.DataFrame(data.apply(np.std),columns=[\"Desviación estándar\"])"
   ]
  },
  {
   "cell_type": "markdown",
   "metadata": {},
   "source": [
    "**Supuesto #8:**"
   ]
  },
  {
   "cell_type": "code",
   "execution_count": 15,
   "metadata": {},
   "outputs": [],
   "source": [
    "#Multicolinealidad"
   ]
  },
  {
   "cell_type": "code",
   "execution_count": 14,
   "metadata": {},
   "outputs": [
    {
     "data": {
      "text/html": [
       "<div>\n",
       "<style scoped>\n",
       "    .dataframe tbody tr th:only-of-type {\n",
       "        vertical-align: middle;\n",
       "    }\n",
       "\n",
       "    .dataframe tbody tr th {\n",
       "        vertical-align: top;\n",
       "    }\n",
       "\n",
       "    .dataframe thead th {\n",
       "        text-align: right;\n",
       "    }\n",
       "</style>\n",
       "<table border=\"1\" class=\"dataframe\">\n",
       "  <thead>\n",
       "    <tr style=\"text-align: right;\">\n",
       "      <th></th>\n",
       "      <th>CM</th>\n",
       "      <th>FLR</th>\n",
       "      <th>PGNP</th>\n",
       "      <th>TFR</th>\n",
       "    </tr>\n",
       "  </thead>\n",
       "  <tbody>\n",
       "    <tr>\n",
       "      <th>CM</th>\n",
       "      <td>1.000000</td>\n",
       "      <td>-0.818285</td>\n",
       "      <td>-0.407697</td>\n",
       "      <td>0.671135</td>\n",
       "    </tr>\n",
       "    <tr>\n",
       "      <th>FLR</th>\n",
       "      <td>-0.818285</td>\n",
       "      <td>1.000000</td>\n",
       "      <td>0.268530</td>\n",
       "      <td>-0.625954</td>\n",
       "    </tr>\n",
       "    <tr>\n",
       "      <th>PGNP</th>\n",
       "      <td>-0.407697</td>\n",
       "      <td>0.268530</td>\n",
       "      <td>1.000000</td>\n",
       "      <td>-0.185718</td>\n",
       "    </tr>\n",
       "    <tr>\n",
       "      <th>TFR</th>\n",
       "      <td>0.671135</td>\n",
       "      <td>-0.625954</td>\n",
       "      <td>-0.185718</td>\n",
       "      <td>1.000000</td>\n",
       "    </tr>\n",
       "  </tbody>\n",
       "</table>\n",
       "</div>"
      ],
      "text/plain": [
       "            CM       FLR      PGNP       TFR\n",
       "CM    1.000000 -0.818285 -0.407697  0.671135\n",
       "FLR  -0.818285  1.000000  0.268530 -0.625954\n",
       "PGNP -0.407697  0.268530  1.000000 -0.185718\n",
       "TFR   0.671135 -0.625954 -0.185718  1.000000"
      ]
     },
     "execution_count": 14,
     "metadata": {},
     "output_type": "execute_result"
    }
   ],
   "source": [
    "data.corr()"
   ]
  },
  {
   "cell_type": "code",
   "execution_count": 15,
   "metadata": {},
   "outputs": [
    {
     "data": {
      "image/png": "[encoded data removed]",
      "text/plain": [
       "<Figure size 432x288 with 2 Axes>"
      ]
     },
     "metadata": {
      "needs_background": "light"
     },
     "output_type": "display_data"
    }
   ],
   "source": [
    "correlaciones=data.corr()\n",
    "fig,ax=plt.subplots()\n",
    "sns.heatmap(correlaciones)\n",
    "plt.show()"
   ]
  },
  {
   "cell_type": "code",
   "execution_count": 16,
   "metadata": {},
   "outputs": [
    {
     "data": {
      "image/png": "[encoded data removed]",
      "text/plain": [
       "<Figure size 432x288 with 2 Axes>"
      ]
     },
     "metadata": {
      "needs_background": "light"
     },
     "output_type": "display_data"
    }
   ],
   "source": [
    "correlaciones=data.corr()\n",
    "fig,ax=plt.subplots()\n",
    "sns.heatmap(correlaciones,cmap=\"RdYlGn\")\n",
    "plt.show()"
   ]
  },
  {
   "cell_type": "code",
   "execution_count": 17,
   "metadata": {},
   "outputs": [
    {
     "data": {
      "image/png": "[encoded data removed]",
      "text/plain": [
       "<Figure size 432x288 with 2 Axes>"
      ]
     },
     "metadata": {
      "needs_background": "light"
     },
     "output_type": "display_data"
    }
   ],
   "source": [
    "correlaciones=data.corr()\n",
    "fig,ax=plt.subplots()\n",
    "sns.heatmap(correlaciones,cmap=\"RdYlGn\", annot = True)\n",
    "plt.show()"
   ]
  },
  {
   "cell_type": "code",
   "execution_count": 18,
   "metadata": {},
   "outputs": [
    {
     "data": {
      "image/png": "[encoded data removed]",
      "text/plain": [
       "<Figure size 432x288 with 2 Axes>"
      ]
     },
     "metadata": {
      "needs_background": "light"
     },
     "output_type": "display_data"
    }
   ],
   "source": [
    "correlaciones=data[[\"CM\",\"PGNP\"]].corr()\n",
    "fig,ax=plt.subplots()\n",
    "sns.heatmap(correlaciones,cmap=\"RdYlGn\", annot = True)\n",
    "plt.show()"
   ]
  },
  {
   "cell_type": "code",
   "execution_count": 19,
   "metadata": {},
   "outputs": [
    {
     "data": {
      "image/png": "[encoded data removed]",
      "text/plain": [
       "<Figure size 432x288 with 2 Axes>"
      ]
     },
     "metadata": {
      "needs_background": "light"
     },
     "output_type": "display_data"
    }
   ],
   "source": [
    "correlaciones2=data[[\"CM\",\"TFR\"]].corr()\n",
    "fig,ax=plt.subplots()\n",
    "fig.suptitle(\"Correlaciones CM-TFR\",fontsize=20,color=\"green\")\n",
    "sns.heatmap(correlaciones2, cmap=\"RdYlGn\", annot = True)\n",
    "plt.show()"
   ]
  },
  {
   "cell_type": "code",
   "execution_count": 16,
   "metadata": {},
   "outputs": [],
   "source": [
    "# Vif "
   ]
  },
  {
   "cell_type": "code",
   "execution_count": 20,
   "metadata": {},
   "outputs": [
    {
     "name": "stdout",
     "output_type": "stream",
     "text": [
      "  Nombre        VIF\n",
      "0     CM  12.465787\n",
      "1    FLR   3.937469\n",
      "2   PGNP   1.494594\n",
      "3    TFR  20.210255\n"
     ]
    }
   ],
   "source": [
    "from statsmodels.stats.outliers_influence import variance_inflation_factor\n",
    "\n",
    "# VIF dataframe\n",
    "vif_data = pd.DataFrame()\n",
    "vif_data[\"Nombre\"] = data.columns\n",
    "  \n",
    "# Calculo de VIF\n",
    "vif_data[\"VIF\"] = [variance_inflation_factor(data.values, i)\n",
    "                          for i in range(len(data.columns))]\n",
    "                            \n",
    "print(vif_data)"
   ]
  },
  {
   "cell_type": "code",
   "execution_count": 21,
   "metadata": {},
   "outputs": [
    {
     "name": "stdout",
     "output_type": "stream",
     "text": [
      "4\n"
     ]
    }
   ],
   "source": [
    "print(len(data.columns))"
   ]
  },
  {
   "cell_type": "markdown",
   "metadata": {},
   "source": [
    "**Supuesto de no sesgo de especificación**"
   ]
  },
  {
   "cell_type": "code",
   "execution_count": 25,
   "metadata": {},
   "outputs": [],
   "source": [
    "Modelo1=sm.OLS(data[\"CM\"],sm.add_constant(data[[\"PGNP\",\"FLR\"]]))"
   ]
  },
  {
   "cell_type": "code",
   "execution_count": 27,
   "metadata": {
    "scrolled": false
   },
   "outputs": [
    {
     "name": "stdout",
     "output_type": "stream",
     "text": [
      "                            OLS Regression Results                            \n",
      "==============================================================================\n",
      "Dep. Variable:                     CM   R-squared:                       0.708\n",
      "Model:                            OLS   Adj. R-squared:                  0.698\n",
      "Method:                 Least Squares   F-statistic:                     73.83\n",
      "Date:                Mon, 12 Apr 2021   Prob (F-statistic):           5.12e-17\n",
      "Time:                        17:52:20   Log-Likelihood:                -328.10\n",
      "No. Observations:                  64   AIC:                             662.2\n",
      "Df Residuals:                      61   BIC:                             668.7\n",
      "Df Model:                           2                                         \n",
      "Covariance Type:            nonrobust                                         \n",
      "==============================================================================\n",
      "                 coef    std err          t      P>|t|      [0.025      0.975]\n",
      "------------------------------------------------------------------------------\n",
      "const        263.6416     11.593     22.741      0.000     240.460     286.824\n",
      "PGNP          -0.0056      0.002     -2.819      0.006      -0.010      -0.002\n",
      "FLR           -2.2316      0.210    -10.629      0.000      -2.651      -1.812\n",
      "==============================================================================\n",
      "Omnibus:                        0.732   Durbin-Watson:                   2.186\n",
      "Prob(Omnibus):                  0.693   Jarque-Bera (JB):                0.559\n",
      "Skew:                           0.228   Prob(JB):                        0.756\n",
      "Kurtosis:                       2.949   Cond. No.                     6.77e+03\n",
      "==============================================================================\n",
      "\n",
      "Notes:\n",
      "[1] Standard Errors assume that the covariance matrix of the errors is correctly specified.\n",
      "[2] The condition number is large, 6.77e+03. This might indicate that there are\n",
      "strong multicollinearity or other numerical problems.\n"
     ]
    }
   ],
   "source": [
    "Resultados1=Modelo1.fit()\n",
    "print(Resultados1.summary())"
   ]
  },
  {
   "cell_type": "code",
   "execution_count": 28,
   "metadata": {},
   "outputs": [],
   "source": [
    "Valores_estimados=Resultados.predict()"
   ]
  },
  {
   "cell_type": "code",
   "execution_count": 29,
   "metadata": {},
   "outputs": [],
   "source": [
    "Residuos=Resultados1.resid"
   ]
  },
  {
   "cell_type": "code",
   "execution_count": 30,
   "metadata": {},
   "outputs": [
    {
     "name": "stdout",
     "output_type": "stream",
     "text": [
      "(0.5191974341185545, 0.9503227705917878, [(1, 1.63), (5, 1.36), (10, 1.22)])\n"
     ]
    }
   ],
   "source": [
    "# Prueba CUSUM para medir cambio estructural\n",
    "\n",
    "# H0 : No hay cambio estructural\n",
    "# H1: Hay cambio estructural\n",
    "\n",
    "ResultadosCUSUM = sms.breaks_cusumolsresid(Residuos)\n",
    "print(ResultadosCUSUM)\n",
    "\n",
    "# 0,51 > 0.05 Acepta la H0: No hay cambio estructural"
   ]
  },
  {
   "cell_type": "code",
   "execution_count": 25,
   "metadata": {
    "collapsed": true
   },
   "outputs": [
    {
     "ename": "AttributeError",
     "evalue": "module 'statsmodels.stats.api' has no attribute '___________'",
     "output_type": "error",
     "traceback": [
      "\u001b[1;31m---------------------------------------------------------------------------\u001b[0m",
      "\u001b[1;31mAttributeError\u001b[0m                            Traceback (most recent call last)",
      "\u001b[1;32m<ipython-input-25-67ee9da6cd01>\u001b[0m in \u001b[0;36m<module>\u001b[1;34m\u001b[0m\n\u001b[0;32m      1\u001b[0m \u001b[1;31m# Para evaluar si la forma funcional es la correcta se utiliza el test de RESET de Ramsey\u001b[0m\u001b[1;33m\u001b[0m\u001b[1;33m\u001b[0m\u001b[1;33m\u001b[0m\u001b[0m\n\u001b[0;32m      2\u001b[0m \u001b[1;33m\u001b[0m\u001b[0m\n\u001b[1;32m----> 3\u001b[1;33m \u001b[0mResultadosRESET\u001b[0m \u001b[1;33m=\u001b[0m \u001b[0msms\u001b[0m\u001b[1;33m.\u001b[0m\u001b[0m___________\u001b[0m\u001b[1;33m(\u001b[0m\u001b[0mResultados1\u001b[0m\u001b[1;33m)\u001b[0m\u001b[1;33m\u001b[0m\u001b[1;33m\u001b[0m\u001b[0m\n\u001b[0m\u001b[0;32m      4\u001b[0m \u001b[0mEstadistico\u001b[0m \u001b[1;33m=\u001b[0m \u001b[0m_______________\u001b[0m\u001b[1;33m\u001b[0m\u001b[1;33m\u001b[0m\u001b[0m\n\u001b[0;32m      5\u001b[0m \u001b[0mp_valor\u001b[0m \u001b[1;33m=\u001b[0m \u001b[0m________________\u001b[0m\u001b[1;33m\u001b[0m\u001b[1;33m\u001b[0m\u001b[0m\n",
      "\u001b[1;31mAttributeError\u001b[0m: module 'statsmodels.stats.api' has no attribute '___________'"
     ]
    }
   ],
   "source": [
    "# Para evaluar si la forma funcional es la correcta se utiliza el test de RESET de Ramsey\n",
    "\n",
    "ResultadosRESET = sms.___________(Resultados1)\n",
    "Estadistico = _______________\n",
    "p_valor = ________________\n",
    "\n",
    "Nombres = [\"Estadistico\",\"p-valor\"]\n",
    "pd.DataFrame([___________,___________], index = Nombres, columns = [\"Reset\"])\n",
    "\n",
    "# Como p-valor es mayor a 0.05 la regresión tiene una correcta forma funcional "
   ]
  },
  {
   "cell_type": "markdown",
   "metadata": {},
   "source": [
    "## Ejercicio\n",
    "\n",
    "Realice un modelo de regresión lineal con la base de datos Ingreso_Ahorro disponible en la sesión 3 del moodle; adicionalmente, verifique el cumplimieneto de los supuesto vistos en clase.\n",
    "\n",
    "Este archivo de datos contiene información sobre 26 automóviles, a saber, su marca, precio, millas por galón, calificación de reparación (en 1978), peso en libras, longitud en pulgadas y si el automóvil era extranjero o nacional. Aquí está el archivo de datos."
   ]
  },
  {
   "cell_type": "code",
   "execution_count": 91,
   "metadata": {},
   "outputs": [],
   "source": [
    "dataEjercicio=pd.read_csv(\"_____________________\")"
   ]
  },
  {
   "cell_type": "code",
   "execution_count": 26,
   "metadata": {
    "collapsed": true
   },
   "outputs": [
    {
     "ename": "NameError",
     "evalue": "name '______________' is not defined",
     "output_type": "error",
     "traceback": [
      "\u001b[1;31m---------------------------------------------------------------------------\u001b[0m",
      "\u001b[1;31mNameError\u001b[0m                                 Traceback (most recent call last)",
      "\u001b[1;32m<ipython-input-26-eb05a854ab61>\u001b[0m in \u001b[0;36m<module>\u001b[1;34m\u001b[0m\n\u001b[1;32m----> 1\u001b[1;33m \u001b[0msns\u001b[0m\u001b[1;33m.\u001b[0m\u001b[0mcatplot\u001b[0m\u001b[1;33m(\u001b[0m\u001b[0m______________\u001b[0m\u001b[1;33m)\u001b[0m\u001b[1;33m\u001b[0m\u001b[1;33m\u001b[0m\u001b[0m\n\u001b[0m",
      "\u001b[1;31mNameError\u001b[0m: name '______________' is not defined"
     ]
    }
   ],
   "source": [
    "sns.catplot(______________)"
   ]
  },
  {
   "cell_type": "code",
   "execution_count": 27,
   "metadata": {
    "collapsed": true
   },
   "outputs": [
    {
     "ename": "SyntaxError",
     "evalue": "positional argument follows keyword argument (<ipython-input-27-392ab2570258>, line 1)",
     "output_type": "error",
     "traceback": [
      "\u001b[1;36m  File \u001b[1;32m\"<ipython-input-27-392ab2570258>\"\u001b[1;36m, line \u001b[1;32m1\u001b[0m\n\u001b[1;33m    sns.catplot(_____________, hue=\"foreign\", kind=\"swarm\", _________)\u001b[0m\n\u001b[1;37m                                                            ^\u001b[0m\n\u001b[1;31mSyntaxError\u001b[0m\u001b[1;31m:\u001b[0m positional argument follows keyword argument\n"
     ]
    }
   ],
   "source": [
    "sns.catplot(_____________, hue=\"foreign\", kind=\"swarm\", _________)"
   ]
  }
 ],
 "metadata": {
  "kernelspec": {
   "display_name": "Python 3",
   "language": "python",
   "name": "python3"
  },
  "language_info": {
   "codemirror_mode": {
    "name": "ipython",
    "version": 3
   },
   "file_extension": ".py",
   "mimetype": "text/x-python",
   "name": "python",
   "nbconvert_exporter": "python",
   "pygments_lexer": "ipython3",
   "version": "3.8.5"
  }
 },
 "nbformat": 4,
 "nbformat_minor": 2
}
