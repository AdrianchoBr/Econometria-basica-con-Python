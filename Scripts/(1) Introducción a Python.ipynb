{
 "cells": [
  {
   "cell_type": "markdown",
   "metadata": {},
   "source": [
    "# **Introducción a Python**"
   ]
  },
  {
   "cell_type": "markdown",
   "metadata": {},
   "source": [
    "Algunas veces el nootbook no se guarda automáticamente, en caso de que sea así, ejecuten %autosave n, donde n es la cantidad de segundos. \n",
    "\n",
    "Si queremos comentar una línea de código se utiliza el # o \"\"\" "
   ]
  },
  {
   "cell_type": "code",
   "execution_count": 4,
   "metadata": {},
   "outputs": [
    {
     "data": {
      "application/javascript": [
       "IPython.notebook.set_autosave_interval(120000)"
      ]
     },
     "metadata": {},
     "output_type": "display_data"
    },
    {
     "name": "stdout",
     "output_type": "stream",
     "text": [
      "Autosaving every 120 seconds\n"
     ]
    },
    {
     "data": {
      "text/plain": [
       "'\\nEn este  caso estamos \\nUtilizando varias líneas de comentario\\n'"
      ]
     },
     "execution_count": 4,
     "metadata": {},
     "output_type": "execute_result"
    }
   ],
   "source": [
    "%autosave 120 \n",
    "# n segundos\n",
    "\n",
    "\"\"\"\n",
    "En este  caso estamos \n",
    "Utilizando varias líneas de comentario\n",
    "\"\"\""
   ]
  },
  {
   "cell_type": "markdown",
   "metadata": {},
   "source": [
    "### Uso de markdown en Jupyter"
   ]
  },
  {
   "cell_type": "markdown",
   "metadata": {},
   "source": [
    "Encabezados con #\n",
    "\n",
    "Podemos escribir párrafos, aplicar sangría con \">\" y modificar su estilo: \n",
    "\n",
    "<blockquote><div style=\"background-color:#DCDCDC; color:#000000; font-style: normal; font-family: Georgia;\"> Markdown es un lenguaje de marcado ligero creado por John Gruber que trata de conseguir la máxima legibilidad y facilidad de publicación tanto en sus forma de entrada como de salida, inspirándose en muchas convenciones existentes para marcar mensajes de correo electrónico usando texto plano.\n",
    "</div></blockquote>"
   ]
  },
  {
   "cell_type": "markdown",
   "metadata": {},
   "source": [
    "Para hacer énfasis se puede utilizar:\n",
    "\n",
    "*énfasis*  \n",
    "_énfasis_\n",
    "\n",
    "o \n",
    "\n",
    "**énfasis fuerte**  \n",
    "__énfasis__\n",
    "\n",
    "o\n",
    "\n",
    "~~énfasis~~\n",
    "\n",
    "Nota: si se desea hacer un saldo de línea, se deben colocar dos espacios en blanco al final."
   ]
  },
  {
   "cell_type": "markdown",
   "metadata": {},
   "source": [
    "### Vínculos\n",
    "\n",
    "Este es un vínculo a [GOOGLE](http://www.google.com).\n",
    "\n",
    "Estos son vinculos referenciados a [Anaconda][1]  y [Python][2].\n",
    "\n",
    "[1]: https://www.continuum.io \"Continuum Analytics\"\n",
    "[2]: https://www.python.org \"Python Software Fundation\""
   ]
  },
  {
   "cell_type": "markdown",
   "metadata": {},
   "source": [
    "### Latex\n",
    "\n",
    "$$\\frac{1}{x^2} \\int{\\exp{x^n}} dx$$"
   ]
  },
  {
   "cell_type": "markdown",
   "metadata": {},
   "source": [
    "### Tablas\n",
    "\n",
    "titulo 1 MUY MUY LARGO | titulo 2\n",
    ":--------: | -------\n",
    "celda 1-1 | celda 1-2\n",
    "celda 2-1 | celda 2-2"
   ]
  },
  {
   "cell_type": "markdown",
   "metadata": {},
   "source": [
    "   ## Identificadores y variables"
   ]
  },
  {
   "cell_type": "code",
   "execution_count": 15,
   "metadata": {},
   "outputs": [
    {
     "name": "stdout",
     "output_type": "stream",
     "text": [
      "2.3\n"
     ]
    }
   ],
   "source": [
    "Dia = 2.3\n",
    "print(Dia)"
   ]
  },
  {
   "cell_type": "markdown",
   "metadata": {},
   "source": [
    "### Tipos de datos primitivos"
   ]
  },
  {
   "cell_type": "code",
   "execution_count": 16,
   "metadata": {},
   "outputs": [
    {
     "data": {
      "text/plain": [
       "float"
      ]
     },
     "execution_count": 16,
     "metadata": {},
     "output_type": "execute_result"
    }
   ],
   "source": [
    "type(Dia)"
   ]
  },
  {
   "cell_type": "code",
   "execution_count": 17,
   "metadata": {},
   "outputs": [
    {
     "data": {
      "text/plain": [
       "bool"
      ]
     },
     "execution_count": 17,
     "metadata": {},
     "output_type": "execute_result"
    }
   ],
   "source": [
    "type(True)"
   ]
  },
  {
   "cell_type": "markdown",
   "metadata": {},
   "source": [
    "### Tipos de secuencias"
   ]
  },
  {
   "cell_type": "code",
   "execution_count": 19,
   "metadata": {},
   "outputs": [
    {
     "data": {
      "text/plain": [
       "str"
      ]
     },
     "execution_count": 19,
     "metadata": {},
     "output_type": "execute_result"
    }
   ],
   "source": [
    "type(\"hola\")"
   ]
  },
  {
   "cell_type": "code",
   "execution_count": 27,
   "metadata": {},
   "outputs": [],
   "source": [
    "Edades = [20,21,16,27]\n",
    "         #1  2   3  4 \n",
    "         #0  1   2  3\n",
    "         #-4 -3  -2 -1\n",
    "Nombre = [\"Juan\", \"Sofía\",\"Camilo\"]"
   ]
  },
  {
   "cell_type": "code",
   "execution_count": 28,
   "metadata": {},
   "outputs": [
    {
     "data": {
      "text/plain": [
       "20"
      ]
     },
     "execution_count": 28,
     "metadata": {},
     "output_type": "execute_result"
    }
   ],
   "source": [
    "Edades[0]"
   ]
  },
  {
   "cell_type": "code",
   "execution_count": 29,
   "metadata": {},
   "outputs": [
    {
     "data": {
      "text/plain": [
       "27"
      ]
     },
     "execution_count": 29,
     "metadata": {},
     "output_type": "execute_result"
    }
   ],
   "source": [
    "Edades[-1]"
   ]
  },
  {
   "cell_type": "code",
   "execution_count": 36,
   "metadata": {},
   "outputs": [],
   "source": [
    "Edades.append(13)"
   ]
  },
  {
   "cell_type": "code",
   "execution_count": 39,
   "metadata": {},
   "outputs": [
    {
     "name": "stdout",
     "output_type": "stream",
     "text": [
      "[20, 21, 16, 27]\n"
     ]
    }
   ],
   "source": [
    "print(Edades)"
   ]
  },
  {
   "cell_type": "code",
   "execution_count": 38,
   "metadata": {},
   "outputs": [],
   "source": [
    "del Edades[4:]"
   ]
  },
  {
   "cell_type": "code",
   "execution_count": 43,
   "metadata": {},
   "outputs": [
    {
     "name": "stdout",
     "output_type": "stream",
     "text": [
      "['Juan', 'Sofía', 'Camilo', ['Benavides', 'Moreno', 'Mario']]\n",
      "['Benavides', 'Moreno', 'Mario']\n",
      "Moreno\n"
     ]
    }
   ],
   "source": [
    "# Unir listas \n",
    "nombres_estudiantes = [\"Juan\", \"Sofía\",\"Camilo\"]\n",
    "nombres_profesores = [\"Benavides\", \"Moreno\",\"Mario\"]\n",
    "\n",
    "nombres_estudiantes.append(nombres_profesores)\n",
    "print(nombres_estudiantes)\n",
    "\n",
    "# Extraer el nombre Moreno\n",
    "print(nombres_estudiantes[3])\n",
    "print(nombres_estudiantes[3][1])"
   ]
  },
  {
   "cell_type": "code",
   "execution_count": 44,
   "metadata": {},
   "outputs": [
    {
     "name": "stdout",
     "output_type": "stream",
     "text": [
      "['Juan', 'Sofía', 'Camilo', 'Benavides', 'Moreno', 'Mario']\n"
     ]
    }
   ],
   "source": [
    "nombres_estudiantes2 = [\"Juan\", \"Sofía\",\"Camilo\"]\n",
    "nombres_profesores2 = [\"Benavides\", \"Moreno\",\"Mario\"]\n",
    "\n",
    "nombres_estudiantes2.extend(nombres_profesores2)\n",
    "print(nombres_estudiantes2)"
   ]
  },
  {
   "cell_type": "markdown",
   "metadata": {},
   "source": [
    "**Tuplas**"
   ]
  },
  {
   "cell_type": "code",
   "execution_count": 46,
   "metadata": {},
   "outputs": [
    {
     "name": "stdout",
     "output_type": "stream",
     "text": [
      "(2, 3, 4, 5, 6, 7)\n"
     ]
    },
    {
     "data": {
      "text/plain": [
       "tuple"
      ]
     },
     "execution_count": 46,
     "metadata": {},
     "output_type": "execute_result"
    }
   ],
   "source": [
    "numeros = (2,3,4,5,6,7)\n",
    "print(numeros)\n",
    "type(numeros)"
   ]
  },
  {
   "cell_type": "markdown",
   "metadata": {},
   "source": [
    "**Diccionarios**"
   ]
  },
  {
   "cell_type": "code",
   "execution_count": 51,
   "metadata": {},
   "outputs": [
    {
     "name": "stdout",
     "output_type": "stream",
     "text": [
      "Juan\n"
     ]
    }
   ],
   "source": [
    "Datos = {\"Nombre\":[\"Juan\",\"Luis\"], \"Apellido\":[\"Acevedo\",\"Gómez\"]}\n",
    "print(Datos[\"Nombre\"][0])"
   ]
  },
  {
   "cell_type": "code",
   "execution_count": 53,
   "metadata": {},
   "outputs": [
    {
     "name": "stdout",
     "output_type": "stream",
     "text": [
      "{'Juan': 12, 'Luis': 13, 'Camila': 15, 'Luisa': 15, 'John': 63}\n"
     ]
    }
   ],
   "source": [
    "dic = dict(zip([\"Juan\",\"Luis\",\"Camila\",\"Luisa\",\"John\"], [12,13,15,15,63]))\n",
    "print(dic)\n",
    "\n",
    "############################################################################"
   ]
  },
  {
   "cell_type": "code",
   "execution_count": 55,
   "metadata": {},
   "outputs": [],
   "source": [
    "# Podemos agregar cualquier tipo de secuencia\n",
    "tupla = (1,2,3,4,5)\n",
    "tupla2 = (\"a\",\"b\",\"c\",\"d\",\"e\")\n",
    "\n",
    "diccionario_tuplas={\"Números\":______, \"Letras\":______}\n",
    "print(diccionario_tuplas)\n",
    "\n",
    "# Si quiero imprimir el número 3\n",
    "diccionario_tuplas__________"
   ]
  },
  {
   "cell_type": "code",
   "execution_count": 56,
   "metadata": {
    "scrolled": true
   },
   "outputs": [],
   "source": [
    "puertos = {80: \"HTTP\", 23: \"SMTP\", 443: \"HTTPS\"}\n",
    "print(puertos)\n",
    "# Con el [clave] puedo modificar o crear \n",
    "puertos[23] =\n",
    "print(puertos)\n",
    "puertos[110] =\n",
    "print(puertos)"
   ]
  },
  {
   "cell_type": "markdown",
   "metadata": {},
   "source": [
    "## Operadores aritméticos"
   ]
  },
  {
   "cell_type": "markdown",
   "metadata": {},
   "source": [
    "\n",
    "Python soporta los operadores aritméticos básicos tales como:\n",
    "- +: Adición\n",
    "- -: Substracción\n",
    "- *: Multiplación\n",
    "- /: División\n",
    "- **: Potenciación\n",
    "- %: Módulo o residuo\n",
    "- //: División entera\n",
    "- =: Asignación\n",
    "\n",
    "Esto permite usar a python como una calculadora.\n",
    "\n",
    "Se utiliza la siguiente jerarquía de operadores:\n",
    "\n",
    "| Operador | Jerarquía | \n",
    "| --- | --- |\n",
    "| () | 0 |\n",
    "| ** | 1 |\n",
    "| *, /, %, // | 2 |\n",
    "| +, - | 3 |\n",
    "\n",
    "Ejemplos:"
   ]
  },
  {
   "cell_type": "code",
   "execution_count": null,
   "metadata": {},
   "outputs": [],
   "source": []
  },
  {
   "cell_type": "markdown",
   "metadata": {},
   "source": [
    "## Operadores de asignación"
   ]
  },
  {
   "cell_type": "markdown",
   "metadata": {},
   "source": [
    "## Operadores de comparación\n",
    "\n",
    "A diferencia de los operadores aritméticos que siempre dan como resultado valores numéricos, los operadores de comparación dan como resultado valores booleanos, es decir, True o False. Algunos operadores son:\n",
    "- ==: Compara igualdad\n",
    "- &gt; , >= : Mayor, mayor igual\n",
    "- < , <= : Menor, menor igual\n",
    "- !=: Diferente\n"
   ]
  },
  {
   "cell_type": "code",
   "execution_count": null,
   "metadata": {},
   "outputs": [],
   "source": []
  },
  {
   "cell_type": "markdown",
   "metadata": {},
   "source": [
    "## Operadores lógicos"
   ]
  },
  {
   "cell_type": "markdown",
   "metadata": {},
   "source": [
    "* not : Operador ¬ de la negación en Python.\n",
    "                not α ⇔ ¬α\n",
    "                   \n",
    "* and : Operador ∧ de la conjunción en Python.\n",
    "                α and β ⇔ α ∧ β\n",
    "\n",
    "* or : Operador ∨ de la disyunción en Python.\n",
    "                 α or β ⇔ α ∨ β\n"
   ]
  },
  {
   "cell_type": "markdown",
   "metadata": {},
   "source": [
    "## Funciones"
   ]
  },
  {
   "cell_type": "code",
   "execution_count": 14,
   "metadata": {},
   "outputs": [
    {
     "name": "stdout",
     "output_type": "stream",
     "text": [
      "Largo del rectángulo: 2\n",
      "Ancho del rectángulo: 2\n",
      "El área del rectángulo es: 4.0\n"
     ]
    }
   ],
   "source": [
    "# Si mezclamos algunas cosas, podemos hacer esto:\n",
    "\n",
    "def \n",
    "\n",
    "largo = float(input(\"Largo del rectángulo: \"))\n",
    "ancho = float(input(\"Ancho del rectángulo: \"))\n",
    "print(\"El área del rectángulo es:\", end = \" \")\n",
    "print(area_rectangulo(largo, ancho))"
   ]
  },
  {
   "cell_type": "markdown",
   "metadata": {},
   "source": [
    "## Primer análisis de datos "
   ]
  },
  {
   "cell_type": "markdown",
   "metadata": {},
   "source": [
    "La base de datos GujaratiPorter71 presenta:\n",
    "\n",
    "Data on child mortality (CM), female literacy rate (FLR), per capita GNP (PGNP), and total fertility rate (TFR) for a group of 64 countries."
   ]
  },
  {
   "cell_type": "code",
   "execution_count": 31,
   "metadata": {},
   "outputs": [],
   "source": [
    "# Cuando se importen datos, se le puede atribuir un apodo, esto mediante el as \n",
    "\n",
    "import pandas  as pd # Para manejar los datos\n",
    "import statsmodels as sm # Para funciones\n",
    "import matplotlib.pyplot as plt # Para hacer gráficos\n",
    "import seaborn as sns # Para hacer gráficos especializados en estadística "
   ]
  },
  {
   "cell_type": "code",
   "execution_count": 32,
   "metadata": {
    "scrolled": true
   },
   "outputs": [],
   "source": [
    "data = pd.read_csv(\"\", delimiter = \"\\t\") "
   ]
  },
  {
   "cell_type": "code",
   "execution_count": 54,
   "metadata": {
    "scrolled": true
   },
   "outputs": [],
   "source": [
    "plot = sns.pairplot(data, plot_kws = {_________},\n",
    "            diag_kws = {_________})\n",
    "plot.fig.suptitle(_________ , _________ , color = _________),\n",
    "plt.subplots_adjust(top = 0.9),\n",
    "plt.show ()"
   ]
  },
  {
   "cell_type": "code",
   "execution_count": 42,
   "metadata": {},
   "outputs": [
    {
     "name": "stdout",
     "output_type": "stream",
     "text": [
      "Index(['CM', 'FLR', 'PGNP', 'TFR'], dtype='object')\n"
     ]
    }
   ],
   "source": [
    "# Cambiar nombre de columnas\n",
    "\n",
    "\"\"\"\n",
    "Datos sobre mortalidad infantil (CM), --> (MI)\n",
    "tasa de alfabetización femenina (FLR),  --> (TAF)\n",
    "PNB per cápita (PGNP)  --> (PNBP)\n",
    "y tasa de fecundidad total (TFR) para un grupo de 64 países.  --> (TFT)\n",
    "\"\"\"\n",
    "print(data.columns)"
   ]
  }
 ],
 "metadata": {
  "kernelspec": {
   "display_name": "Python 3",
   "language": "python",
   "name": "python3"
  },
  "language_info": {
   "codemirror_mode": {
    "name": "ipython",
    "version": 3
   },
   "file_extension": ".py",
   "mimetype": "text/x-python",
   "name": "python",
   "nbconvert_exporter": "python",
   "pygments_lexer": "ipython3",
   "version": "3.8.5"
  }
 },
 "nbformat": 4,
 "nbformat_minor": 2
}
